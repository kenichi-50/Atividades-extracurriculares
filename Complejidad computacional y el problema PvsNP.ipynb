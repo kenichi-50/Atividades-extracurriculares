{
 "cells": [
  {
   "cell_type": "markdown",
   "id": "0616c608",
   "metadata": {},
   "source": [
    "# Escuela Politécnica Nacional\n",
    "\n",
    "## [Actividad extracurricular 3b] Complejidad computacional y el problema PvsNP\n",
    "\n",
    "\n",
    "**Asignatura**: Métodos Numéricos  \n",
    "**Estudiante**: Joel Stalin Tinitana Carrión  \n",
    "**Fecha**: 15/07/2025  "
   ]
  },
  {
   "cell_type": "markdown",
   "id": "95da0351",
   "metadata": {},
   "source": [
    "## Objetivo \n",
    "\n",
    "- Conocer y entender sobre la complejidad computacional. \n",
    "- Familiarizarse con el problema de P vs NP. "
   ]
  },
  {
   "cell_type": "markdown",
   "id": "1cb34674",
   "metadata": {},
   "source": [
    "## Indicaciones\n",
    "- Investigue sobre la notación big O. Esta medida es ¿para el peor escenario, mejor escenario, o el promedio?\n",
    "- ¿Cuál es la diferencia con little o, y las otras funciones big Omega Ω, big Theta Θ?\n",
    "- Investigue sobre el problema P vs NP, describa ejemplos de algoritmos en cada caso. "
   ]
  },
  {
   "cell_type": "markdown",
   "id": "f5652906",
   "metadata": {},
   "source": [
    "## Introducción\n",
    "\n",
    "La complejidad computacional es una rama de la informática teórica que estudia los recursos necesarios (tiempo y espacio) para resolver problemas computacionales. En este contexto, se han desarrollado herramientas matemáticas para describir la eficiencia de los algoritmos. Una de las más conocidas es la notación Big O, la cual permite clasificar algoritmos según su crecimiento en función del tamaño de entrada. Por otro lado, el problema P vs NP es uno de los grandes enigmas sin resolver, con profundas consecuencias teóricas y prácticas."
   ]
  },
  {
   "cell_type": "markdown",
   "id": "873485b1",
   "metadata": {},
   "source": [
    "## Desarrollo\n",
    "\n",
    "### 1. ¿Qué es la notación Big-O?\n",
    "\n",
    "La notación **Big-O** describe el **comportamiento del algoritmo en el peor de los casos**, es decir, cuán rápido crece el número de operaciones necesarias a medida que aumenta el tamaño de la entrada $$n$$. No se enfoca en detalles precisos como tiempos concretos de ejecución, sino en cómo escalan los algoritmos.\n",
    "\n",
    "Por ejemplo:\n",
    "\n",
    "- Un algoritmo con complejidad $$O(n)$$ crece linealmente.\n",
    "- Uno con $$O(n^2)$$ crece cuadráticamente.\n",
    "\n",
    "### 2. ¿Qué significa Big-O, little-o, Omega y Theta?\n",
    "| Notación              | Descripción                                                                           |\n",
    "|-----------------------|----------------------------------------------------------------------------------------|\n",
    "| $$O(g(n))$$           | **Cota superior**: el algoritmo **no crece más rápido que** $$g(n)$$.                 |\n",
    "| $$o(g(n))$$           | **Cota superior estricta**: crece **estrictamente más lento** que $$g(n)$$.           |\n",
    "| $$\\Omega(g(n))$$      | **Cota inferior**: el algoritmo crece **al menos tan rápido** como $$g(n)$$.          |\n",
    "| $$\\Theta(g(n))$$      | **Cota ajustada**: el algoritmo crece **exactamente al mismo ritmo** que $$g(n)$$.    |\n",
    "\n",
    "\n",
    "### 3. Tabla comparativa: notaciones de menor a mayor crecimiento\n",
    "\n",
    "| Notación             | Nombre común         | Ejemplo típico                                |\n",
    "|----------------------|----------------------|------------------------------------------------|\n",
    "| $$O(1)$$             | Constante            | Acceder a un elemento de una lista por índice |\n",
    "| $$O(\\log n)$$        | Logarítmica          | Búsqueda binaria                              |\n",
    "| $$O(n)$$             | Lineal               | Recorrer una lista                            |\n",
    "| $$O(n \\log n)$$      | Lineal logarítmica   | Merge Sort, Quick Sort (mejor caso)           |\n",
    "| $$O(n^2)$$           | Cuadrática           | Burbujas, selección, inserción                |\n",
    "| $$O(n^3)$$           | Cúbica               | Multiplicación de matrices                    |\n",
    "| $$O(2^n)$$           | Exponencial          | Problema de la mochila (backtracking)         |\n",
    "| $$O(n!)$$            | Factorial            | Generación de permutaciones                   |\n",
    "\n",
    "### 4. ¿Cómo se compara la velocidad entre algoritmos?\n",
    "\n",
    "Cuando decimos que un **algoritmo es más rápido o más lento**, nos referimos a cómo **crece su tiempo de ejecución** con respecto al tamaño de entrada \\( n \\). Este crecimiento se expresa con notaciones como \\( O(n) \\), \\( O(n^2) \\), \\( O(n^3) \\), etc. En general, un algoritmo es **más eficiente** si su exponente en \\( n \\) es menor, ya que su crecimiento es más lento. Por ejemplo, un algoritmo con \\( O(n^{3/2}) \\) (equivalente a \\( O(n^{1.5}) \\)) crece más lentamente que uno con \\( O(n^2) \\), y por lo tanto es **más rápido** en entradas grandes.\n",
    "\n",
    "Los **constantes y divisores** como \\( O(n^2 / 2) \\) no afectan la clasificación en notación Big-O, porque esta se centra únicamente en el crecimiento asintótico. Es decir, \\( O(n^2 / 2) \\) y \\( O(n^2) \\) son equivalentes desde el punto de vista del análisis de algoritmos, porque ambos crecen con el cuadrado de \\( n \\). En cambio, \\( O(n^{3/2}) \\) sí representa una mejora notable respecto a \\( O(n^2) \\), ya que su exponente es más bajo.\n",
    "\n",
    "Por lo tanto, **el criterio más importante para comparar algoritmos es el exponente de \\( n \\)** en su notación Big-O. A menor exponente, menor crecimiento, y por tanto, mejor rendimiento para entradas grandes.\n",
    "\n",
    "### 5. ¿Qué es el problema P vs NP?\n",
    "\n",
    "El problema **P vs NP** es uno de los **siete problemas del milenio** propuestos por el Clay Mathematics Institute.\n",
    "\n",
    "- **P**: Conjunto de problemas que pueden resolverse **rápidamente (en tiempo polinómico)** por un algoritmo determinista.\n",
    "  \n",
    "  Ejemplos:\n",
    "  - Ordenamiento de listas (Merge Sort)\n",
    "  - Búsqueda de un elemento en un arreglo (Búsqueda binaria)\n",
    "  - Multiplicación de matrices\n",
    "\n",
    "- **NP**: Conjunto de problemas cuya **solución puede verificarse rápidamente**, aunque no se sepa cómo hallarla rápidamente.\n",
    "\n",
    "  Ejemplos:\n",
    "  - Problema del viajante (TSP)\n",
    "  - Problema de la mochila\n",
    "  - Sudoku\n",
    "\n",
    "**Pregunta central del problema P vs NP**:  \n",
    "> ¿Todo problema cuya solución puede ser verificada rápidamente también puede ser resuelto rápidamente?\n",
    "\n",
    "En otras palabras, ¿P = NP?\n",
    "\n",
    "Hasta hoy, **no se ha demostrado si P = NP o P ≠ NP**, por lo tanto, sigue siendo un problema abierto.\n",
    "\n"
   ]
  },
  {
   "cell_type": "markdown",
   "id": "2e3b3deb",
   "metadata": {},
   "source": [
    "## Conclusiones\n",
    "\n",
    "- La notación Big-O es una herramienta fundamental para evaluar la **eficiencia de los algoritmos**, especialmente en el **peor de los casos**.\n",
    "- Otras notaciones como **little-o**, **Ω (Omega)** y **Θ (Theta)** permiten describir límites inferiores y crecimientos exactos, lo que aporta mayor precisión al análisis.\n",
    "- Un algoritmo se considera **más rápido** cuando su función de crecimiento (exponente de \\( n \\)) es menor, sin importar constantes o divisores.\n",
    "- El problema **P vs NP** sigue siendo un desafío abierto en la ciencia de la computación. Entenderlo permite diferenciar entre problemas fáciles de resolver y aquellos cuya solución solo puede ser verificada, no necesariamente encontrada en tiempo razonable.\n",
    "- Clasificar algoritmos por su complejidad nos permite **elegir la mejor solución** según el tamaño de entrada y los recursos disponibles.\n",
    "\n"
   ]
  },
  {
   "cell_type": "markdown",
   "id": "0c6d1afd",
   "metadata": {},
   "source": [
    "## Referencias\n",
    "\n",
    "- [Documentación oficial de Python sobre `time complexity`](https://wiki.python.org/moin/TimeComplexity)\n",
    "- [Big-O Cheat Sheet – Complexity chart](https://www.bigocheatsheet.com/)\n",
    "- [Problema P vs NP explicado por Clay Mathematics Institute](https://www.claymath.org/millennium/p-vs-np/)"
   ]
  }
 ],
 "metadata": {
  "language_info": {
   "name": "python"
  }
 },
 "nbformat": 4,
 "nbformat_minor": 5
}
