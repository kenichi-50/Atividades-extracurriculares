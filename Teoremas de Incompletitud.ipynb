{
 "cells": [
  {
   "cell_type": "markdown",
   "id": "37e33df2",
   "metadata": {},
   "source": [
    "# Escuela Politécnica Nacional\n",
    "\n",
    "## [Actividad extracurricular 1b] Teoremas de Incompletitud\n",
    "\n",
    "\n",
    "**Asignatura**: Métodos Numéricos  \n",
    "**Estudiante**: Joel Stalin Tinitana Carrión  \n",
    "**Fecha**: 15/07/2025  "
   ]
  },
  {
   "cell_type": "markdown",
   "id": "0af80966",
   "metadata": {},
   "source": [
    "## Objetivo\n",
    "\n",
    "Conocer y analizar sobre los teoremas de Incompletitud de Kurt Gödel. \n",
    "\n"
   ]
  },
  {
   "cell_type": "markdown",
   "id": "4af6e08b",
   "metadata": {},
   "source": [
    "## Indicaciones\n",
    "\n",
    "- Vea un video sobre los Teoremas de incompletitud. \n",
    "- Analice sobre los escenarios en los que se aplica los teoremas. \n",
    "- Divague sobre las implicaciones del teorema. "
   ]
  },
  {
   "cell_type": "markdown",
   "id": "81e016f0",
   "metadata": {},
   "source": [
    "## Introducion \n",
    "\n",
    "En 1931, el matemático austriaco Kurt Gödel demostró dos teoremas que marcaron un antes y un después en la historia de las matemáticas. Estos teoremas, conocidos como los **Teoremas de Incompletitud**, cuestionan la posibilidad de construir un sistema axiomático completo y consistente que contenga toda la aritmética.\n"
   ]
  },
  {
   "cell_type": "markdown",
   "id": "9eed97d8",
   "metadata": {},
   "source": [
    "## Análisis del Teorema\n",
    "\n",
    "### ¿Cómo se construyen las matemáticas?\n",
    "\n",
    "Toda teoría matemática se basa en **axiomas**, enunciados considerados verdaderos sin necesidad de demostración. A partir de ellos se generan **teoremas** mediante reglas lógicas. Sin embargo, Gödel demostró que si un sistema axiomático es lo suficientemente poderoso (como para incluir aritmética básica), entonces:\n",
    "\n",
    "### Primer Teorema de Incompletitud\n",
    "\n",
    "> En todo sistema axiomático consistente y suficientemente expresivo, existen proposiciones que **no pueden ser probadas ni refutadas** dentro del propio sistema.\n",
    "\n",
    "Esto significa que no importa cuán sólido parezca nuestro sistema, siempre habrá verdades que no se puedan demostrar desde los axiomas establecidos.\n",
    "\n",
    "### Segundo Teorema de Incompletitud\n",
    "\n",
    "> Ningún sistema consistente puede **probar su propia consistencia** desde dentro.\n",
    "\n",
    "Esto implica que si confiamos en que nuestras matemáticas no contienen contradicciones, nunca podremos confirmarlo completamente desde el propio sistema que usamos.\n",
    "\n",
    "---\n",
    "\n",
    "## Aplicaciones y escenarios\n",
    "\n",
    "- **Geometrías no euclidianas**: A partir de postulados diferentes al quinto de Euclides, se crean nuevas geometrías válidas. Esto muestra que los sistemas axiomáticos pueden generar múltiples \"realidades matemáticas\".\n",
    "- **Juego de la vida de Conway**: Un ejemplo visual y computacional donde patrones simples pueden generar comportamientos indecidibles.\n",
    "- **Sistemas formales y computación**: Gödel inspiró desarrollos fundamentales como la máquina de Turing y la teoría de la computabilidad.  \n",
    "- **Problemas no resolubles**: Conjeturas como la de Goldbach o la de los primos gemelos podrían ser verdaderas y, sin embargo, indemostrables dentro de nuestros sistemas actuales.\n",
    "\n",
    "---\n",
    "\n",
    "## Implicaciones filosóficas\n",
    "\n",
    "Gödel demostró que **la verdad y la demostrabilidad no son equivalentes**. Esta revelación transformó no solo las matemáticas, sino también la filosofía, la informática, la física y la teoría del conocimiento. A pesar de que no podemos saberlo todo, esta limitación ha impulsado nuevas formas de pensamiento y creatividad matemática.\n",
    "\n",
    "---\n",
    "\n",
    "## Conclusión\n",
    "\n",
    "Los Teoremas de Incompletitud de Gödel nos recuerdan que el conocimiento tiene límites inherentes. Sin embargo, estos límites no son un obstáculo, sino una oportunidad: al enfrentarlos, abrimos la puerta a nuevos descubrimientos, nuevas teorías y nuevos horizontes en la ciencia, la lógica y la computación.\n",
    "\n",
    "> “Debemos saber. Sabremos.”  \n",
    "> — David Hilbert\n",
    "\n",
    "---\n",
    "\n",
    "## Referencias\n",
    "\n",
    "- [Video 1: Los Teoremas de Incompletitud – QuantumFracture](https://www.youtube.com/watch?v=6oXs7Yi4tGY)  \n",
    "- [Video 2: Gödel, Teoremas de Incompletitud – Veritasium (subtitulado)](https://www.youtube.com/watch?v=RRg38oNQ9vk)\n"
   ]
  }
 ],
 "metadata": {
  "language_info": {
   "name": "python"
  }
 },
 "nbformat": 4,
 "nbformat_minor": 5
}
