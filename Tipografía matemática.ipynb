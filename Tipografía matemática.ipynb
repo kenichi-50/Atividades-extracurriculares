{
 "cells": [
  {
   "cell_type": "markdown",
   "id": "721a9954",
   "metadata": {},
   "source": [
    "<center>\n",
    "\n",
    "## Tipografía matemática\n",
    "\n",
    "</center>\n",
    "\n",
    "**Nombre:** Joel Stalin Tinitana Carrion\n",
    "\n",
    "**Fecha:** 19/05/2025"
   ]
  },
  {
   "cell_type": "markdown",
   "id": "c10d8e20",
   "metadata": {},
   "source": [
    "### Investigar sobre los atajos de teclado para ingresar ecuaciones matemáticas en Word y Latex. \n"
   ]
  },
  {
   "cell_type": "markdown",
   "id": "d456dbe2",
   "metadata": {},
   "source": [
    "### Word\n"
   ]
  },
  {
   "cell_type": "markdown",
   "id": "a619f8b0",
   "metadata": {},
   "source": [
    "**Atajo:** Alt + Shift + =\n",
    "**Resultado:** Abre el editor de ecuaciones en Microsoft Word\n",
    "\n",
    "Para poder escribir los atajos que se muestran a continuacion:\n"
   ]
  },
  {
   "cell_type": "markdown",
   "id": "b6e42971",
   "metadata": {},
   "source": [
    "| Nº | Símbolo       | Atajo en Word (modo ecuación) | Utilidad                         | Resultado |\n",
    "|----|----------------|-------------------------------|----------------------------------|-----------|\n",
    "| 1  | Alfa           | \\alpha                        | Variable griega                  | α         |\n",
    "| 2  | Beta           | \\beta                         | Variable griega                  | β         |\n",
    "| 3  | Gamma          | \\gamma                        | Constante o variable             | γ         |\n",
    "| 4  | Delta          | \\delta                        | Cambio o diferencia              | δ         |\n",
    "| 5  | Theta          | \\theta                        | Ángulos                          | θ         |\n",
    "| 6  | Pi             | \\pi                           | Constante matemática             | π         |\n",
    "| 7  | Suma           | \\sum                          | Sumatoria                        | ∑         |\n",
    "| 8  | Producto       | \\prod                         | Producto múltiple                | ∏         |\n",
    "| 9  | Integral       | \\int                          | Integración                      | ∫         |\n",
    "| 10 | Límite         | \\lim                          | Límite de funciones              | lim       |\n",
    "| 11 | Raíz cuadrada  | \\sqrt                         | Radical                          | √         |\n",
    "| 12 | Mayor que      | >                             | Comparación                      | >         |\n",
    "| 13 | Menor que      | <                             | Comparación                      | <         |\n",
    "| 14 | Mayor o igual  | \\geq o >=                     | Comparación                      | ≥         |\n",
    "| 15 | Menor o igual  | \\leq o <=                     | Comparación                      | ≤         |\n",
    "| 16 | Aproximación   | \\approx                       | Aproximación                     | ≈         |\n",
    "| 17 | Diferente      | \\neq                          | Desigualdad                      | ≠         |\n",
    "| 18 | Infinito       | \\infty                        | Límite sin fin                   | ∞         |\n",
    "| 19 | Pertenencia    | \\in                           | Teoría de conjuntos              | ∈         |\n",
    "| 20 | Subconjunto    | \\subset                       | Teoría de conjuntos              | ⊂         |\n",
    "| 21 | Unión          | \\cup                          | Unión de conjuntos               | ∪         |\n",
    "| 22 | Intersección   | \\cap                          | Intersección de conjuntos        | ∩         |\n",
    "| 23 | Implicación    | \\Rightarrow                   | Lógica proposicional             | ⇒         |\n",
    "| 24 | Equivalencia   | \\Leftrightarrow               | Lógica proposicional             | ⇔         |\n",
    "| 25 | Negación       | \\neg                          | Lógica                           | ¬         |\n",
    "| 26 | Flecha derecha | \\rightarrow                   | Funciones, derivación            | →         |\n",
    "| 27 | Flecha izquierda| \\leftarrow                   | Inverso o retroceso              | ←         |\n",
    "| 28 | Porcentaje     | \\%                            | Porcentaje                       | %         |\n",
    "| 29 | Por mil        | \\permil                       | Por mil                          | ‰         |\n",
    "| 30 | Espacio        | \\;                            | Espaciado en ecuaciones          | espacio   |\n",
    "| 31 | Multiplicación (punto)   | \\cdot                  | Producto escalar o notación matemática        | ⋅         |\n",
    "| 32 | Más/menos                | \\pm                    | Suma/resta combinada                          | ±         |\n",
    "| 33 | Menos/más                | \\mp                    | Resta/suma combinada                          | ∓         |\n",
    "| 34 | Igual con tilde          | \\equiv                 | Equivalencia lógica o congruencia modular     | ≡         |\n",
    "| 35 | Suma en círculo          | \\oplus                 | Suma directa (álgebra, lógica, redondeo)      | ⊕         |\n",
    "| 36 | Producto en círculo      | \\otimes                | Producto tensorial o lógico                   | ⊗         |\n",
    "| 37 | Resta en círculo         | \\ominus                | Resta lógica o aritmética con redondeo        | ⊖         |\n",
    "| 38 | División en círculo      | \\oslash                | División modular o lógica                     | ⊘         |\n",
    "| 39 | Unión exclusiva (XOR)    | \\veebar                | Operación XOR (solo verdadero si uno es true) | ⊻         |\n",
    "| 40 | Intersección lógica (AND) | \\wedge                 | Operación AND (solo verdadero si ambos son true) | ∧         |\n",
    "\n"
   ]
  },
  {
   "cell_type": "markdown",
   "id": "86c2e633",
   "metadata": {},
   "source": [
    "### Latex"
   ]
  },
  {
   "cell_type": "markdown",
   "id": "d9f426be",
   "metadata": {},
   "source": [
    "Texto con fórmula en línea: $E = mc^2$\n",
    "\n",
    "Fórmula centrada con doble dólar:\n",
    "$$\n",
    "f(x) = \\int_0^\\infty e^{-x^2} dx\n",
    "$$\n",
    "\n",
    "Tabla de atajos para escribir formulas:\n"
   ]
  },
  {
   "cell_type": "markdown",
   "id": "851725fe",
   "metadata": {},
   "source": [
    "| Nº | Símbolo                | Comando LaTeX       | Utilidad                                      | Resultado |\n",
    "|----|------------------------|---------------------|-----------------------------------------------|-----------|\n",
    "| 1  | Alfa                   | `\\alpha`            | Variable griega                               | α         |\n",
    "| 2  | Beta                   | `\\beta`             | Variable griega                               | β         |\n",
    "| 3  | Gamma                  | `\\gamma`            | Constante o variable                           | γ         |\n",
    "| 4  | Delta                  | `\\delta`            | Cambio o diferencia                           | δ         |\n",
    "| 5  | Theta                  | `\\theta`            | Ángulo                                        | θ         |\n",
    "| 6  | Pi                     | `\\pi`               | Constante matemática                          | π         |\n",
    "| 7  | Sumatoria              | `\\sum`              | Sumatoria                                     | ∑         |\n",
    "| 8  | Producto               | `\\prod`             | Producto                                      | ∏         |\n",
    "| 9  | Integral               | `\\int`              | Integral                                      | ∫         |\n",
    "| 10 | Límite                 | `\\lim`              | Límite                                        | lim       |\n",
    "| 11 | Raíz cuadrada          | `\\sqrt{x}`          | Raíz cuadrada                                 | √x        |\n",
    "| 12 | Mayor que              | `>`                 | Comparación                                   | >         |\n",
    "| 13 | Menor que              | `<`                 | Comparación                                   | <         |\n",
    "| 14 | Mayor o igual          | `\\geq`              | Comparación                                   | ≥         |\n",
    "| 15 | Menor o igual          | `\\leq`              | Comparación                                   | ≤         |\n",
    "| 16 | Aproximación           | `\\approx`           | Aproximación                                  | ≈         |\n",
    "| 17 | Diferente              | `\\neq`              | Desigualdad                                   | ≠         |\n",
    "| 18 | Infinito               | `\\infty`            | Valor infinito                                | ∞         |\n",
    "| 19 | Pertenece              | `\\in`               | Pertenece a un conjunto                       | ∈         |\n",
    "| 20 | Subconjunto            | `\\subset`           | Teoría de conjuntos                           | ⊂         |\n",
    "| 21 | Unión de conjuntos     | `\\cup`              | Teoría de conjuntos                           | ∪         |\n",
    "| 22 | Intersección           | `\\cap`              | Teoría de conjuntos                           | ∩         |\n",
    "| 23 | Implicación            | `\\Rightarrow`       | Lógica proposicional                          | ⇒         |\n",
    "| 24 | Equivalencia lógica    | `\\Leftrightarrow`   | Equivalencia en lógica                        | ⇔         |\n",
    "| 25 | Negación lógica        | `\\neg`              | Negación                                      | ¬         |\n",
    "| 26 | Flecha derecha         | `\\rightarrow`       | Funciones, derivación                         | →         |\n",
    "| 27 | Flecha izquierda       | `\\leftarrow`        | Retroceso o inversa                           | ←         |\n",
    "| 28 | Porcentaje             | `\\%`                | Notación porcentual                           | %         |\n",
    "| 29 | Por mil                | `\\permil`           | Notación por mil                              | ‰         |\n",
    "| 30 | Espacio matemático     | `\\;`                | Separación entre términos                     | (espacio) |\n",
    "| 31 | Punto (producto escalar)| `\\cdot`            | Producto escalar                              | ⋅         |\n",
    "| 32 | Más/menos              | `\\pm`               | Suma/resta combinada                          | ±         |\n",
    "| 33 | Menos/más              | `\\mp`               | Resta/suma combinada                          | ∓         |\n",
    "| 34 | Equivalencia exacta    | `\\equiv`            | Congruencia o equivalencia lógica             | ≡         |\n",
    "| 35 | Suma en círculo        | `\\oplus`            | Aritmética modular, álgebra                   | ⊕         |\n",
    "| 36 | Producto en círculo    | `\\otimes`           | Producto tensorial o booleano                 | ⊗         |\n",
    "| 37 | Resta en círculo       | `\\ominus`           | Resta modular o lógica                        | ⊖         |\n",
    "| 38 | División en círculo    | `\\oslash`           | División modular o lógica                     | ⊘         |\n",
    "| 39 | Unión exclusiva (XOR)  | `\\veebar`           | Operación lógica exclusiva                    | ⊻         |\n",
    "| 40 | Intersección lógica    | `\\wedge`            | Operación lógica and                         | ∧         |"
   ]
  },
  {
   "cell_type": "markdown",
   "id": "9dc63d22",
   "metadata": {},
   "source": [
    "### Distribucion de teclados\n",
    "- 🇪🇸 Español (Latinoamericano)\n",
    "- 🇬🇧 Inglés (Internacional)\n",
    "- 🇺🇸 Inglés (Estados Unidos)"
   ]
  },
  {
   "cell_type": "markdown",
   "id": "8eb53eb9",
   "metadata": {},
   "source": [
    "| Símbolo | Español (Latinoamericano)     | Inglés (Internacional)            | Inglés (Estados Unidos)           |\n",
    "|---------|-------------------------------|-----------------------------------|-----------------------------------|\n",
    "| `\\`     | AltGr + Q                     | AltGr + Q o tecla dedicada        | Tecla dedicada (encima de Enter) |\n",
    "| `'`     | Tecla junto al número 0       | Tecla junto a Enter               | Tecla junto a Enter              |\n",
    "| `\"`     | Shift + 2                     | Shift + '                         | Shift + '                         |\n",
    "| `{`     | AltGr + [                     | AltGr + 7                         | Shift + [                         |\n",
    "| `}`     | AltGr + ]                     | AltGr + 0                         | Shift + ]                         |\n",
    "| `[`     | AltGr + G                     | AltGr + 8                         | Tecla dedicada junto a P          |\n",
    "| `]`     | AltGr + F                     | AltGr + 9                         | Tecla dedicada junto a P          |\n",
    "| `|`     | AltGr + 1                     | AltGr + 1 o tecla sobre Enter     | Shift + \\                         |\n",
    "| `~`     | AltGr + 4                     | AltGr + ñ o tecla dedicada        | Shift + \\` (tecla a la izquierda del 1) |\n",
    "| `^`     | AltGr + 6 o tecla muerta      | AltGr + 6                         | Shift + 6                         |\n"
   ]
  }
 ],
 "metadata": {
  "kernelspec": {
   "display_name": "Python 3",
   "language": "python",
   "name": "python3"
  },
  "language_info": {
   "name": "python",
   "version": "3.11.9"
  }
 },
 "nbformat": 4,
 "nbformat_minor": 5
}
